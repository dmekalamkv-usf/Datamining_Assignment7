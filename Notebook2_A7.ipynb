{
 "cells": [
  {
   "cell_type": "markdown",
   "metadata": {},
   "source": [
    "# Data Processing and Classification Modeling\n",
    "\n",
    "In this notebook, we will:\n",
    "- Handle missing values\n",
    "- Standardize the dataset\n",
    "- Build and evaluate models using Neural Network, XGBoost, and RandomForest\n",
    "\n",
    "The model evaluations will be based on the Weighted Macro F1 Score."
   ]
  },
  {
   "cell_type": "code",
   "execution_count": 15,
   "metadata": {},
   "outputs": [],
   "source": [
    "# Importing necessary libraries\n",
    "import pandas as pd\n",
    "import matplotlib.pyplot as plt\n",
    "import seaborn as sns\n",
    "from sklearn.model_selection import train_test_split\n",
    "from sklearn.impute import SimpleImputer\n",
    "from sklearn.preprocessing import StandardScaler\n",
    "from sklearn.compose import ColumnTransformer\n",
    "from sklearn.pipeline import Pipeline\n",
    "from sklearn.metrics import f1_score, classification_report, confusion_matrix\n",
    "from sklearn.neural_network import MLPClassifier\n",
    "from sklearn.ensemble import RandomForestClassifier\n",
    "from xgboost import XGBClassifier\n",
    "from sklearn.model_selection import GridSearchCV\n",
    "import warnings\n",
    "from sklearn.exceptions import ConvergenceWarning\n",
    "warnings.filterwarnings(\"ignore\", category=ConvergenceWarning)\n",
    "\n"
   ]
  },
  {
   "cell_type": "code",
   "execution_count": 5,
   "metadata": {},
   "outputs": [],
   "source": [
    "# Load the dataset\n",
    "df = pd.read_csv('synthetic_dataset.csv')\n",
    "\n"
   ]
  },
  {
   "cell_type": "code",
   "execution_count": 6,
   "metadata": {},
   "outputs": [],
   "source": [
    "# Splitting data into train and test sets\n",
    "X = df.drop('target', axis=1)\n",
    "y = df['target']\n",
    "X_train, X_test, y_train, y_test = train_test_split(X, y, test_size=0.2, random_state=42)\n",
    "\n"
   ]
  },
  {
   "cell_type": "markdown",
   "metadata": {},
   "source": [
    "-- why did we choose 80 - 20 ?"
   ]
  },
  {
   "cell_type": "markdown",
   "metadata": {},
   "source": [
    "### Data Preprocessing:\n",
    "\n",
    "1. **Handling Missing Values**: We handle missing values in numeric features by imputing the mean of the respective columns.\n",
    "2. **Standardization**: After imputation, we standardize the numeric features to have a mean of 0 and a variance of 1.\n"
   ]
  },
  {
   "cell_type": "code",
   "execution_count": 7,
   "metadata": {},
   "outputs": [],
   "source": [
    "# Preprocessing steps\n",
    "numeric_features = ['x1', 'x2', 'x3', 'x4', 'x5']\n",
    "numeric_transformer = Pipeline(steps=[\n",
    "    ('imputer', SimpleImputer(strategy='mean')),\n",
    "    ('scaler', StandardScaler())\n",
    "])\n",
    "\n",
    "preprocessor = ColumnTransformer(\n",
    "    transformers=[\n",
    "        ('num', numeric_transformer, numeric_features)\n",
    "    ])\n",
    "\n"
   ]
  },
  {
   "cell_type": "code",
   "execution_count": 8,
   "metadata": {},
   "outputs": [],
   "source": [
    "# Models definition\n",
    "models = {\n",
    "    \"Neural Network\": MLPClassifier(),\n",
    "    \"XGBoost\": XGBClassifier(),\n",
    "    \"RandomForest\": RandomForestClassifier()\n",
    "}\n",
    "\n"
   ]
  },
  {
   "cell_type": "code",
   "execution_count": 9,
   "metadata": {},
   "outputs": [],
   "source": [
    "# Hyperparameter Tuning\n",
    "parameters_nn = {\n",
    "    'classifier__hidden_layer_sizes': [(50, 50), (100,)],\n",
    "    'classifier__activation': ['tanh', 'relu'],\n",
    "    'classifier__solver': ['sgd', 'adam'],\n",
    "    'classifier__alpha': [0.0001, 0.05],\n",
    "    'classifier__max_iter': [300]\n",
    "}\n",
    "\n",
    "parameters_rf = {\n",
    "    'classifier__n_estimators': [50, 100, 200],\n",
    "    'classifier__max_depth': [None, 10, 20],\n",
    "    'classifier__min_samples_split': [2, 5, 10]\n",
    "}\n",
    "\n",
    "parameters_xgb = {\n",
    "    'classifier__n_estimators': [50, 100, 200],\n",
    "    'classifier__learning_rate': [0.01, 0.05, 0.1],\n",
    "    'classifier__max_depth': [3, 5, 7]\n",
    "}\n",
    "\n",
    "param_grids = {\n",
    "    \"Neural Network\": parameters_nn,\n",
    "    \"XGBoost\": parameters_xgb,\n",
    "    \"RandomForest\": parameters_rf\n",
    "}\n",
    "\n",
    "results = {}"
   ]
  },
  {
   "cell_type": "code",
   "execution_count": 10,
   "metadata": {},
   "outputs": [],
   "source": [
    "# Evaluating Models with GridSearch\n",
    "best_params = {}\n",
    "for name, model in models.items():\n",
    "    pipeline = Pipeline(steps=[('preprocessor', preprocessor),\n",
    "                               ('classifier', model)\n",
    "                              ])\n",
    "    search = GridSearchCV(pipeline, param_grids[name], n_jobs=1)\n",
    "    search.fit(X_train, y_train)\n",
    "    best_params[name] = search.best_params_\n",
    "    predictions = search.predict(X_test)\n",
    "    score = f1_score(y_test, predictions, average='weighted')\n",
    "    results[name] = score"
   ]
  },
  {
   "cell_type": "code",
   "execution_count": 11,
   "metadata": {
    "scrolled": true
   },
   "outputs": [
    {
     "name": "stdout",
     "output_type": "stream",
     "text": [
      "Confusion Matrix for Neural Network: \n",
      " [[18 23 15]\n",
      " [28 24 20]\n",
      " [23 27 22]]\n",
      "Classification Report for Neural Network:\n",
      "               precision    recall  f1-score   support\n",
      "\n",
      "           0       0.26      0.32      0.29        56\n",
      "           1       0.32      0.33      0.33        72\n",
      "           2       0.39      0.31      0.34        72\n",
      "\n",
      "    accuracy                           0.32       200\n",
      "   macro avg       0.32      0.32      0.32       200\n",
      "weighted avg       0.33      0.32      0.32       200\n",
      "\n",
      "Confusion Matrix for XGBoost: \n",
      " [[18 23 15]\n",
      " [28 24 20]\n",
      " [23 27 22]]\n",
      "Classification Report for XGBoost:\n",
      "               precision    recall  f1-score   support\n",
      "\n",
      "           0       0.26      0.32      0.29        56\n",
      "           1       0.32      0.33      0.33        72\n",
      "           2       0.39      0.31      0.34        72\n",
      "\n",
      "    accuracy                           0.32       200\n",
      "   macro avg       0.32      0.32      0.32       200\n",
      "weighted avg       0.33      0.32      0.32       200\n",
      "\n",
      "Confusion Matrix for RandomForest: \n",
      " [[18 23 15]\n",
      " [28 24 20]\n",
      " [23 27 22]]\n",
      "Classification Report for RandomForest:\n",
      "               precision    recall  f1-score   support\n",
      "\n",
      "           0       0.26      0.32      0.29        56\n",
      "           1       0.32      0.33      0.33        72\n",
      "           2       0.39      0.31      0.34        72\n",
      "\n",
      "    accuracy                           0.32       200\n",
      "   macro avg       0.32      0.32      0.32       200\n",
      "weighted avg       0.33      0.32      0.32       200\n",
      "\n"
     ]
    }
   ],
   "source": [
    "for name, model in models.items():\n",
    "    # other code here\n",
    "    predictions = search.predict(X_test)\n",
    "    cm = confusion_matrix(y_test, predictions) \n",
    "    print(f'Confusion Matrix for {name}: \\n', cm)\n",
    "\n",
    "    print(f\"Classification Report for {name}:\\n\", classification_report(y_test, predictions))"
   ]
  },
  {
   "cell_type": "code",
   "execution_count": 16,
   "metadata": {
    "scrolled": true
   },
   "outputs": [
    {
     "data": {
      "image/png": "[encoded data removed]",
      "text/plain": [
       "<Figure size 864x432 with 1 Axes>"
      ]
     },
     "metadata": {
      "needs_background": "light"
     },
     "output_type": "display_data"
    }
   ],
   "source": [
    "# Model evaluation visualization\n",
    "results_df = pd.DataFrame(results.items(), columns=['Model', 'Weighted Macro F1 Score']).sort_values(by='Weighted Macro F1 Score', ascending=False)\n",
    "plt.figure(figsize=(12, 6))\n",
    "sns.barplot(data=results_df, x='Model', y='Weighted Macro F1 Score')\n",
    "plt.title(\"Model Evaluation based on Weighted Macro F1 Score\")\n",
    "plt.show()"
   ]
  },
  {
   "cell_type": "code",
   "execution_count": null,
   "metadata": {},
   "outputs": [],
   "source": []
  }
 ],
 "metadata": {
  "kernelspec": {
   "display_name": "Python 3",
   "language": "python",
   "name": "python3"
  },
  "language_info": {
   "codemirror_mode": {
    "name": "ipython",
    "version": 3
   },
   "file_extension": ".py",
   "mimetype": "text/x-python",
   "name": "python",
   "nbconvert_exporter": "python",
   "pygments_lexer": "ipython3",
   "version": "3.7.4"
  }
 },
 "nbformat": 4,
 "nbformat_minor": 2
}
